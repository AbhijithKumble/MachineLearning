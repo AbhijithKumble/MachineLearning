{
 "cells": [
  {
   "cell_type": "markdown",
   "id": "70b39a4b-240f-4a17-b094-03ea946af8b1",
   "metadata": {},
   "source": [
    "## Important Parts of EDA\n",
    "\n",
    "- Data requirements\n",
    "- Data Collection\n",
    "- Data processingb(exporting and stucturing them)\n",
    "- Data Cleaning (incomplete check, duplicate check, filling missing values)\n",
    "- EDA (Understand the data)\n",
    "- Modelling and algorithm (finding relationships)\n",
    "- Data product (outcome of models)\n",
    "- Communication (telling them to stakeholder using visualisation)"
   ]
  },
  {
   "cell_type": "markdown",
   "id": "c6e66da8-8e7f-42bf-ade4-0a5af85006a5",
   "metadata": {},
   "source": [
    "## Steps in EDA\n",
    "\n",
    "- Problem definition\n",
    "- Data Preparation\n",
    "- Data Analysis\n",
    "- Developement and representation of the results"
   ]
  },
  {
   "cell_type": "markdown",
   "id": "5a3d97ee-990e-431d-9d97-3bd3934c1473",
   "metadata": {},
   "source": [
    "## Types of Data\n",
    "\n",
    "- Numerical\n",
    "- Discrete\n",
    "- Continuous\n",
    "- Categorical (gender, movie genres) -> can be binary or poly"
   ]
  },
  {
   "cell_type": "markdown",
   "id": "55aaf72c-fb43-4b1c-b6b4-7a17387c550c",
   "metadata": {},
   "source": [
    "## Measurement Scales\n",
    "\n",
    "- Nominal -> frequency, proportion, percentage, visualise pie or bar\n",
    "- Ordinal -> the order is significant\n",
    "- Interval -> order and exact diff significant \n",
    "- Ratio \n"
   ]
  },
  {
   "cell_type": "markdown",
   "id": "dda11cbb-8076-4dac-b5a7-b98692766644",
   "metadata": {},
   "source": [
    "## Approach to data analysis\n",
    "\n",
    "- Classical\n",
    "- Exploratory\n",
    "- Bayesian"
   ]
  },
  {
   "cell_type": "markdown",
   "id": "ee82be66-30b9-474c-8db7-bb6d90b40de0",
   "metadata": {},
   "source": [
    "## Tools\n",
    "\n",
    "- Python\n",
    "- R\n",
    "- Weka\n",
    "- KNIME"
   ]
  },
  {
   "cell_type": "markdown",
   "id": "fd4d78cf-0843-40d9-b270-2c5be47bbb40",
   "metadata": {},
   "source": [
    "## Visualising\n",
    "\n",
    "- Line chart\n",
    "- Bar chart\n",
    "- Scatter plot\n",
    "- Area plot and stacked plot\n",
    "- Pie chart\n",
    "- Table chart\n",
    "- Polar chart\n",
    "- Histogram\n",
    "- Lollipop chart\n",
    "- Choosing the best chart\n",
    "- Other libraries to explore"
   ]
  },
  {
   "cell_type": "markdown",
   "id": "b8b4aa21-92f1-4542-b391-44d771eca391",
   "metadata": {},
   "source": [
    " ## Scatter plots are used \n",
    " \n",
    "- When one continuous variable is dependent on another variable, which is under\n",
    "the control of the observer\n",
    "- When both continuous variables are independent"
   ]
  },
  {
   "cell_type": "markdown",
   "id": "ee444687-822f-4ec5-996c-8ef96d8c2f1c",
   "metadata": {},
   "source": []
  }
 ],
 "metadata": {
  "kernelspec": {
   "display_name": "Python 3 (ipykernel)",
   "language": "python",
   "name": "python3"
  },
  "language_info": {
   "codemirror_mode": {
    "name": "ipython",
    "version": 3
   },
   "file_extension": ".py",
   "mimetype": "text/x-python",
   "name": "python",
   "nbconvert_exporter": "python",
   "pygments_lexer": "ipython3",
   "version": "3.13.2"
  }
 },
 "nbformat": 4,
 "nbformat_minor": 5
}
